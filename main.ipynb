{
 "cells": [
  {
   "cell_type": "markdown",
   "metadata": {},
   "source": [
    "# LAB 2 - Desicion trees and data processing\n",
    "\n",
    "### Section 1 - Make your own data set\n"
   ]
  },
  {
   "cell_type": "code",
   "execution_count": 1,
   "metadata": {},
   "outputs": [
    {
     "name": "stdout",
     "output_type": "stream",
     "text": [
      "   Week  Groceries   Rent  Utilities  Transportation  Entertainment  \\\n",
      "0   1.0      150.0  800.0      100.0            50.0           60.0   \n",
      "1   2.0      160.0  850.0      110.0            55.0           65.0   \n",
      "2   3.0      155.0  900.0      105.0            52.0           62.0   \n",
      "3   4.0      158.0  750.0      108.0            54.0           64.0   \n",
      "4   5.0      162.0  800.0      112.0            56.0           66.0   \n",
      "\n",
      "   Dining_Out  Sports  Savings  Miscellaneous  InSchool  \n",
      "0        70.0    30.0    200.0           40.0   b'true'  \n",
      "1        75.0    35.0    210.0           45.0  b'false'  \n",
      "2        72.0    32.0    205.0           42.0   b'true'  \n",
      "3        74.0    34.0    208.0           44.0   b'true'  \n",
      "4        76.0    36.0    212.0           46.0   b'true'  \n"
     ]
    }
   ],
   "source": [
    "from scipy.io import arff\n",
    "import pandas as pd\n",
    "\n",
    "# Load the ARFF file\n",
    "data, meta = arff.loadarff('WeeklySpending.arff')\n",
    "\n",
    "# Convert to pandas DataFrame\n",
    "df = pd.DataFrame(data)\n",
    "\n",
    "# Display the DataFrame\n",
    "print(df.head())"
   ]
  }
 ],
 "metadata": {
  "kernelspec": {
   "display_name": "Python 3",
   "language": "python",
   "name": "python3"
  },
  "language_info": {
   "codemirror_mode": {
    "name": "ipython",
    "version": 3
   },
   "file_extension": ".py",
   "mimetype": "text/x-python",
   "name": "python",
   "nbconvert_exporter": "python",
   "pygments_lexer": "ipython3",
   "version": "3.12.5"
  }
 },
 "nbformat": 4,
 "nbformat_minor": 2
}
